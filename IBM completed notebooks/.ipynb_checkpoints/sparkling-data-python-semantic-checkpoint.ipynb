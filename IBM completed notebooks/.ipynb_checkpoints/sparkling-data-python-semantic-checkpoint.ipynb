{
 "cells": [
  {
   "cell_type": "markdown",
   "metadata": {},
   "source": [
    "\n",
    "# Data preparation using semantic discovery\n",
    "\n",
    "In this tutorial, we will use Python to discover customer data, underestand semantic type of fields, examine data profiles and assess data quality. Each section will prepare the data for further analysis. We will use semantic feature of __Sparkling__ to discover data type of each column. "
   ]
  },
  {
   "cell_type": "markdown",
   "metadata": {},
   "source": [
    "### Import Extension Utilities and Create a Spark SQLContext"
   ]
  },
  {
   "cell_type": "code",
   "execution_count": 1,
   "metadata": {
    "collapsed": false
   },
   "outputs": [],
   "source": [
    "from pyspark.sql import SQLContext\n",
    "sqlContext = SQLContext(sc)\n",
    "from extension_utils import ExtensionUtils\n",
    "eu = ExtensionUtils(sqlContext)"
   ]
  },
  {
   "cell_type": "markdown",
   "metadata": {},
   "source": [
    "### Load dataset \n",
    "To load the dataset into Data Scientist Workbench, run the following cell. It will download and unzip the dataset into \"My Data\"."
   ]
  },
  {
   "cell_type": "code",
   "execution_count": 2,
   "metadata": {
    "collapsed": false
   },
   "outputs": [
    {
     "name": "stdout",
     "output_type": "stream",
     "text": [
      "Archive:  /resources/data/sparklingdataset.zip\r\n",
      "  inflating: /resources/data/sparklingdata/data/sampleDataDir/customers.csv  \r\n",
      "  inflating: /resources/data/sparklingdata/data/sampleDataDir/drugInfo2014.json  \r\n",
      "  inflating: /resources/data/sparklingdata/data/sampleDataDir/drugInfo2015.json  \r\n",
      "  inflating: /resources/data/sparklingdata/data/sampleDocsDir/Events.doc  \r\n",
      "  inflating: /resources/data/sparklingdata/data/sampleDocsDir/News.pdf  \r\n"
     ]
    }
   ],
   "source": [
    "!wget --quiet  --output-document /resources/data/sparklingdataset.zip https://ibm.box.com/shared/static/9nxnsf6xwmuczjea911xjxp8l21yyd2x.zip\n",
    "!unzip -o /resources/data/sparklingdataset.zip -d /resources/data/sparklingdata/\n",
    "!rm /resources/data/sparklingdataset.zip"
   ]
  },
  {
   "cell_type": "markdown",
   "metadata": {},
   "source": [
    "# Explore customer data and prepare for analysis\n",
    "\n",
    "Let us explore our customer data. This data set has 5 columns and does not have header. \n",
    "\n"
   ]
  },
  {
   "cell_type": "code",
   "execution_count": 3,
   "metadata": {
    "collapsed": false
   },
   "outputs": [
    {
     "name": "stdout",
     "output_type": "stream",
     "text": [
      "root\n",
      " |-- C0: string (nullable = true)\n",
      " |-- C1: string (nullable = true)\n",
      " |-- C2: string (nullable = true)\n",
      " |-- C3: string (nullable = true)\n",
      " |-- C4: string (nullable = true)\n",
      "\n",
      "+-----+----------------+--------------------+--------------------+-------+\n",
      "|   C0|              C1|                  C2|                  C3|     C4|\n",
      "+-----+----------------+--------------------+--------------------+-------+\n",
      "|t1234|       Tracy Doe|     Bank of America|69221 Newman Rd, ...|    250|\n",
      "|t5566|   Lisa McDonald|         Wells Fargo|555 Bailey Ave, S...|   1000|\n",
      "|t7666|Lonnie Leo Gomez|       Bank of Texas|1234 Airline Dr, ...|   2000|\n",
      "|t5567|Stephen Brewster|First Bank of Ame...|425 Market Street...|3500.25|\n",
      "|t1238|     Smith, Mary|         J.P. Morgan|3821 Twin Oaks Dr...|   5000|\n",
      "+-----+----------------+--------------------+--------------------+-------+\n",
      "only showing top 5 rows\n",
      "\n"
     ]
    }
   ],
   "source": [
    "dfCustomers = sqlContext.read.format(\"com.ibm.spark.discover\").load(\"/resources/data/sparklingdata/data/sampleDataDir/customers.csv\")\n",
    "dfCustomers.printSchema()\n",
    "dfCustomers.show(5)"
   ]
  },
  {
   "cell_type": "markdown",
   "metadata": {},
   "source": [
    "## Discover semantic types\n",
    "\n",
    "As mentioned this dataset does not have header. __Sparkling__ use _SemanticTypes_ option to find data type of each column. Additionally, it decompose each field and find all segments of each field. For example, it discover city, Zip and State from address field."
   ]
  },
  {
   "cell_type": "code",
   "execution_count": 4,
   "metadata": {
    "collapsed": false
   },
   "outputs": [
    {
     "name": "stdout",
     "output_type": "stream",
     "text": [
      "root\n",
      " |-- C0: string (nullable = true)\n",
      " |-- C1: string (nullable = true)\n",
      " |-- C2: string (nullable = true)\n",
      " |-- C3: string (nullable = true)\n",
      " |-- C4: string (nullable = true)\n",
      "\n",
      "+-----+----------------+--------------------+--------------------+-------+\n",
      "|   C0|              C1|                  C2|                  C3|     C4|\n",
      "+-----+----------------+--------------------+--------------------+-------+\n",
      "|t1234|       Tracy Doe|     Bank of America|69221 Newman Rd, ...|    250|\n",
      "|t5566|   Lisa McDonald|         Wells Fargo|555 Bailey Ave, S...|   1000|\n",
      "|t7666|Lonnie Leo Gomez|       Bank of Texas|1234 Airline Dr, ...|   2000|\n",
      "|t5567|Stephen Brewster|First Bank of Ame...|425 Market Street...|3500.25|\n",
      "|t1238|     Smith, Mary|         J.P. Morgan|3821 Twin Oaks Dr...|   5000|\n",
      "+-----+----------------+--------------------+--------------------+-------+\n",
      "only showing top 5 rows\n",
      "\n"
     ]
    }
   ],
   "source": [
    "options = {'extractFields': True, 'semanticTypes': True}\n",
    "dfCustomersInferred = eu.inferTypes(dfCustomers, options)\n",
    "dfCustomersInferred.printSchema()\n",
    "dfCustomersInferred.show(5)"
   ]
  },
  {
   "cell_type": "markdown",
   "metadata": {},
   "source": [
    "## Reveal bad data for 'C2' column\n",
    "We run _inferrred type_ with __revealNA__ option and show the result data frame. The result dataset is all rows in dataframe that has bad values.\n",
    "__mode__ in option can be \"any\" or \"all\". \n",
    "- \"any\" is to show the row if any fields has bad value.\n",
    "- \"all\" if all of fields are bad values."
   ]
  },
  {
   "cell_type": "code",
   "execution_count": 5,
   "metadata": {
    "collapsed": false
   },
   "outputs": [
    {
     "name": "stdout",
     "output_type": "stream",
     "text": [
      "+-----+----------------+--------------------+--------------------+-----+\n",
      "|   C0|              C1|                  C2|                  C3|   C4|\n",
      "+-----+----------------+--------------------+--------------------+-----+\n",
      "|t9954|     John Miller|>[First Farmers &...|1555 Kingston Ave...|  200|\n",
      "|t8887|   Helen Taranto|       >[BankFirst]<|1800 Century Park...|  300|\n",
      "|t8763|  Michael Walker|                null|1463 Braxton Stre...|890.1|\n",
      "|t8667|     Shana Wiley|                null|4589 Holly Street...| 2000|\n",
      "|t2225|Stephen Brewster|>[First of America]<|4075 Harley Brook...|  600|\n",
      "|t2229|   Hillary Frost|>[First Farmers &...|1234 Airline Dr, ...|  599|\n",
      "+-----+----------------+--------------------+--------------------+-----+\n",
      "\n"
     ]
    }
   ],
   "source": [
    "options = {\"semanticTypes\": True, \"columns\": [\"C2\"], \"revealNA\": {\"mode\": \"any\", \"brackets\": (\">[\", \"]<\")}}\n",
    "dfCustomersForAnalysis = eu.inferTypes(dfCustomers, options)\n",
    "dfCustomersForAnalysis.show()"
   ]
  },
  {
   "cell_type": "markdown",
   "metadata": {},
   "source": [
    "## Run profile on customer data and print profile information\n",
    "\n",
    "We can run __profile__ on input data frame to generate profile information. It help us to understand the type, range, distribution and some stats about diferrent columns of our data.\n",
    "It shows some info about:   \n",
    "\n",
    "\"StatsNames\" : e.g. \"count\",\"mean\",\"min\",\"max\"  \n",
    "\"inferred_type\": It shows data type, e.g. String   \n",
    "\"Bins\": Bins range for numerical columns  \n",
    "\"Values\": Bins frequency  "
   ]
  },
  {
   "cell_type": "code",
   "execution_count": 6,
   "metadata": {
    "collapsed": false
   },
   "outputs": [
    {
     "name": "stdout",
     "output_type": "stream",
     "text": [
      "C0:{\"StatsNames\":[\"count\",\"numberOfCategories\",\"mode\"],\"inferred_type\":\"String\",\"columnSpec\":{\"type\":\"String\"},\"inferred_occurrence\":100,\"Percentages\":[0.06451612903225806,0.06451612903225806,0.03225806451612903,0.03225806451612903,0.03225806451612903,0.03225806451612903],\"DiscoveredDataTypePercentages\":[1.0],\"Values\":[2,2,1,1,1,1],\"Labels\":[\"t4563\",\"t1239\",\"t2224\",\"t5823\",\"t8763\",\"t1234\"],\"threshold%\":50,\"Stats\":[\"31\",\"29\",\"t4563\"],\"DiscoveredDataTypes\":[\"String\"]}\n",
      "C1:{\"StatsNames\":[\"count\",\"numberOfCategories\",\"mode\"],\"inferred_type\":\"Person\",\"columnSpec\":{\"type\":\"Person\"},\"inferred_occurrence\":96,\"Percentages\":[0.0967741935483871,0.06451612903225806,0.06451612903225806,0.06451612903225806,0.06451612903225806,0.03225806451612903],\"DiscoveredDataTypePercentages\":[0.967741935483871,0.03225806451612903],\"Values\":[3,2,2,2,2,1],\"Labels\":[\"Lisa McDonald\",\"Jen Norman\",\"Stephen Brewster\",\"Mary Burchfield\",\"Lonnie Leo Gomez\",\"Peter Frost\"],\"threshold%\":50,\"Stats\":[\"31\",\"25\",\"Lisa McDonald\"],\"DiscoveredDataTypes\":[\"Person\",\"String\"]}\n",
      "C2:{\"StatsNames\":[\"count\",\"numberOfCategories\",\"mode\"],\"inferred_type\":\"Organization\",\"columnSpec\":{\"type\":\"Organization\"},\"inferred_occurrence\":80,\"Percentages\":[0.1935483870967742,0.16129032258064516,0.12903225806451613,0.06451612903225806,0.06451612903225806,0.06451612903225806],\"DiscoveredDataTypePercentages\":[0.8064516129032258,0.1935483870967742],\"Values\":[6,5,4,2,2,2],\"Labels\":[\"Bank of America\",\"Bank of Texas\",\"Wells Fargo\",\"First American Bank\",\"\",\"UNITED HEALTHCARE SERVICES\"],\"threshold%\":50,\"Stats\":[\"31\",\"13\",\"Bank of America\"],\"DiscoveredDataTypes\":[\"Organization\",\"String\"]}\n",
      "C3:{\"StatsNames\":[\"count\",\"numberOfCategories\",\"mode\"],\"inferred_type\":\"Address\",\"columnSpec\":{\"type\":\"Address\"},\"inferred_occurrence\":100,\"Percentages\":[0.16129032258064516,0.16129032258064516,0.12903225806451613,0.12903225806451613,0.06451612903225806,0.06451612903225806],\"DiscoveredDataTypePercentages\":[1.0],\"Values\":[5,5,4,4,2,2],\"Labels\":[\"1234 Airline Dr, San Diego, CA\",\"1463 Braxton Street,Chicago, IL\",\"4589 Holly Street, Athens, GA 30606,USA\",\"69221 Newman Rd, Portland, Oregon, United States\",\"4075 Harley Brook Lane,Corry,PA,16407\",\"1463 Braxton Street, Chicago\\tIL, 60607\"],\"threshold%\":50,\"Stats\":[\"31\",\"13\",\"1234 Airline Dr, San Diego, CA\"],\"DiscoveredDataTypes\":[\"Address\"]}\n",
      "C4:{\"StatsNames\":[\"count\",\"numberOfCategories\",\"mode\"],\"inferred_type\":\"Float\",\"columnSpec\":{\"type\":\"Float\"},\"inferred_occurrence\":100,\"Percentages\":[0.0967741935483871,0.0967741935483871,0.06451612903225806,0.06451612903225806,0.03225806451612903,0.03225806451612903],\"DiscoveredDataTypePercentages\":[0.8064516129032258,0.1935483870967742],\"Values\":[3,3,2,2,1,1],\"Labels\":[\"450\",\"1000\",\"2000\",\"540\",\"800\",\"600\"],\"threshold%\":50,\"Stats\":[\"31\",\"25\",\"450\"],\"DiscoveredDataTypes\":[\"Short\",\"Float\"]}\n",
      "\n"
     ]
    }
   ],
   "source": [
    "options = {'extractFields': False, 'semanticTypes': True}\n",
    "dfCustomersInferred_1 = eu.inferTypes(dfCustomers, options)\n",
    "dfCustProfiled = eu.profile(dfCustomersInferred_1)\n",
    "eu.printProfile(dfCustProfiled)"
   ]
  },
  {
   "cell_type": "markdown",
   "metadata": {
    "collapsed": true
   },
   "source": [
    "# Summary\n",
    "\n",
    "This tutorial showed how to discover and explore data and prepare it for further analysis. You can copy this notebook or parts of this notebook into your own notebook and adjust the code as needed.\n"
   ]
  },
  {
   "cell_type": "markdown",
   "metadata": {},
   "source": [
    "## Want to learn more?"
   ]
  },
  {
   "cell_type": "markdown",
   "metadata": {},
   "source": [
    "<a href=\"http://bigdatauniversity.com/courses/introduction-to-python/?utm_source=tutorial-sparkling-semantic&utm_medium=dswb&utm_campaign=bdu\"><img src = \"https://ibm.box.com/shared/static/l8yxiek0fg4e15lwz0ikgunj338nrrtd.png\"> </a>"
   ]
  },
  {
   "cell_type": "markdown",
   "metadata": {},
   "source": [
    "Created by: <a href=\"https://bigdatauniversity.com/?utm_source=bducreatedbylink&utm_medium=dswb&utm_campaign=bdu\">The Big Data University Team</a>"
   ]
  }
 ],
 "metadata": {
  "kernelspec": {
   "display_name": "Python 2",
   "language": "python",
   "name": "python2"
  },
  "language_info": {
   "codemirror_mode": {
    "name": "ipython",
    "version": 2
   },
   "file_extension": ".py",
   "mimetype": "text/x-python",
   "name": "python",
   "nbconvert_exporter": "python",
   "pygments_lexer": "ipython2",
   "version": "2.7.11"
  },
  "widgets": {
   "state": {},
   "version": "1.1.2"
  }
 },
 "nbformat": 4,
 "nbformat_minor": 0
}
